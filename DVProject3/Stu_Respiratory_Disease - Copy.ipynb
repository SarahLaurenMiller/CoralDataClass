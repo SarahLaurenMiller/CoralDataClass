{
 "cells": [
  {
   "cell_type": "code",
   "execution_count": 1,
   "metadata": {},
   "outputs": [],
   "source": [
    "import matplotlib.pyplot as plt\n",
    "import numpy as np\n",
    "import pandas as pd"
   ]
  },
  {
   "cell_type": "markdown",
   "metadata": {},
   "source": [
    "# Childhood Respiratory Disease\n",
    "\n",
    "Keywords: polynomial regression, multiple regression.\n",
    "\n",
    "## Description\n",
    "\n",
    "FEV (forced expiratory volume) is an index of pulmonary function that measures the volume of air expelled after one second of constant effort. The data contains determinations of FEV on 654 children ages 6-22 who were seen in the Childhood Respiratory Desease Study in 1980 in East Boston, Massachusetts. The data are part of a larger study to follow the change in pulmonary function over time in children.\n",
    "\n",
    "ID\t - \tID number\n",
    "Age\t - \tyears\n",
    "FEV\t - \tlitres\n",
    "Height\t - \tinches\n",
    "Sex\t - \tMale or Female\n",
    "Smoker\t - \tNon = nonsmoker, Current = current smoker\n",
    "\n",
    "\n",
    "## Source\n",
    "\n",
    "Tager, I. B., Weiss, S. T., Rosner, B., and Speizer, F. E. (1979). Effect of parental cigarette smoking on pulmonary function in children. American Journal of Epidemiology, 110, 15-26.\n",
    "Rosner, B. (1990). Fundamentals of Biostatistics, 3rd Edition. PWS-Kent, Boston, Massachusetts.\n"
   ]
  },
  {
   "cell_type": "code",
   "execution_count": 3,
   "metadata": {},
   "outputs": [
    {
     "data": {
      "text/html": [
       "<div>\n",
       "<style scoped>\n",
       "    .dataframe tbody tr th:only-of-type {\n",
       "        vertical-align: middle;\n",
       "    }\n",
       "\n",
       "    .dataframe tbody tr th {\n",
       "        vertical-align: top;\n",
       "    }\n",
       "\n",
       "    .dataframe thead th {\n",
       "        text-align: right;\n",
       "    }\n",
       "</style>\n",
       "<table border=\"1\" class=\"dataframe\">\n",
       "  <thead>\n",
       "    <tr style=\"text-align: right;\">\n",
       "      <th></th>\n",
       "      <th>ID</th>\n",
       "      <th>REGION</th>\n",
       "      <th>SUBREGION</th>\n",
       "      <th>COUNTRY</th>\n",
       "      <th>LOCATION</th>\n",
       "      <th>LAT</th>\n",
       "      <th>LON</th>\n",
       "      <th>MONTH</th>\n",
       "      <th>YEAR</th>\n",
       "      <th>DEPTH</th>\n",
       "      <th>...</th>\n",
       "      <th>RECOVERY_CODE</th>\n",
       "      <th>RECOVERY</th>\n",
       "      <th>SURVEY_TYPE</th>\n",
       "      <th>SURVEY_AREA</th>\n",
       "      <th>WATER_TEMPERATURE</th>\n",
       "      <th>OTHER_FACTORS</th>\n",
       "      <th>REMARKS</th>\n",
       "      <th>SOURCE</th>\n",
       "      <th>REFERENCE_CODE</th>\n",
       "      <th>COUNTRY_CODE</th>\n",
       "    </tr>\n",
       "  </thead>\n",
       "  <tbody>\n",
       "    <tr>\n",
       "      <th>0</th>\n",
       "      <td>7067</td>\n",
       "      <td>NaN</td>\n",
       "      <td>NaN</td>\n",
       "      <td>France</td>\n",
       "      <td>Hermitage, Reunion</td>\n",
       "      <td>-21.22</td>\n",
       "      <td>55.22</td>\n",
       "      <td>4.0</td>\n",
       "      <td>2008</td>\n",
       "      <td>6</td>\n",
       "      <td>...</td>\n",
       "      <td>NaN</td>\n",
       "      <td>NaN</td>\n",
       "      <td>Reef Check Protocol</td>\n",
       "      <td>NaN</td>\n",
       "      <td>NaN</td>\n",
       "      <td>NaN</td>\n",
       "      <td>0% of recorded Recently killed coral on substr...</td>\n",
       "      <td>Reef Check, Submitted by Harold Cambert. Site ...</td>\n",
       "      <td>NaN</td>\n",
       "      <td>FRA</td>\n",
       "    </tr>\n",
       "    <tr>\n",
       "      <th>1</th>\n",
       "      <td>7068</td>\n",
       "      <td>NaN</td>\n",
       "      <td>NaN</td>\n",
       "      <td>France</td>\n",
       "      <td>Saint Gilles, Reunion</td>\n",
       "      <td>-21.05</td>\n",
       "      <td>55.23</td>\n",
       "      <td>7.0</td>\n",
       "      <td>2008</td>\n",
       "      <td>6.5</td>\n",
       "      <td>...</td>\n",
       "      <td>NaN</td>\n",
       "      <td>NaN</td>\n",
       "      <td>Reef Check Protocol</td>\n",
       "      <td>NaN</td>\n",
       "      <td>NaN</td>\n",
       "      <td>NaN</td>\n",
       "      <td>0% of recorded Recently killed coral on substr...</td>\n",
       "      <td>Reef Check, Submitted by Harold Cambert. Site ...</td>\n",
       "      <td>NaN</td>\n",
       "      <td>FRA</td>\n",
       "    </tr>\n",
       "    <tr>\n",
       "      <th>2</th>\n",
       "      <td>7069</td>\n",
       "      <td>NaN</td>\n",
       "      <td>NaN</td>\n",
       "      <td>France</td>\n",
       "      <td>Saint-Leu, Reunion</td>\n",
       "      <td>-21.16</td>\n",
       "      <td>55.28</td>\n",
       "      <td>2.0</td>\n",
       "      <td>2008</td>\n",
       "      <td>6</td>\n",
       "      <td>...</td>\n",
       "      <td>NaN</td>\n",
       "      <td>NaN</td>\n",
       "      <td>Reef Check Protocol</td>\n",
       "      <td>NaN</td>\n",
       "      <td>NaN</td>\n",
       "      <td>NaN</td>\n",
       "      <td>0% of recorded Recently killed coral on substr...</td>\n",
       "      <td>Reef Check, Submitted by Harold Cambert . Site...</td>\n",
       "      <td>NaN</td>\n",
       "      <td>FRA</td>\n",
       "    </tr>\n",
       "    <tr>\n",
       "      <th>3</th>\n",
       "      <td>4024</td>\n",
       "      <td>NaN</td>\n",
       "      <td>NaN</td>\n",
       "      <td>France</td>\n",
       "      <td>SE France</td>\n",
       "      <td>43.00</td>\n",
       "      <td>5.00</td>\n",
       "      <td>8.0</td>\n",
       "      <td>1999</td>\n",
       "      <td>NaN</td>\n",
       "      <td>...</td>\n",
       "      <td>NaN</td>\n",
       "      <td>NaN</td>\n",
       "      <td>Diving</td>\n",
       "      <td>100 km</td>\n",
       "      <td>22-23.9 °C</td>\n",
       "      <td>NaN</td>\n",
       "      <td>Bleaching of Cladocora caespitosa and Oculina ...</td>\n",
       "      <td>Martin Pêcheux (martin-pecheux@wanadoo.fr) per...</td>\n",
       "      <td>NaN</td>\n",
       "      <td>FRA</td>\n",
       "    </tr>\n",
       "    <tr>\n",
       "      <th>4</th>\n",
       "      <td>7049</td>\n",
       "      <td>NaN</td>\n",
       "      <td>NaN</td>\n",
       "      <td>Macau</td>\n",
       "      <td>Koh Tao, Surat Thani</td>\n",
       "      <td>10.12</td>\n",
       "      <td>99.81</td>\n",
       "      <td>7.0</td>\n",
       "      <td>2009</td>\n",
       "      <td>4</td>\n",
       "      <td>...</td>\n",
       "      <td>NaN</td>\n",
       "      <td>NaN</td>\n",
       "      <td>Reef Check Protocol</td>\n",
       "      <td>NaN</td>\n",
       "      <td>Air temp 28 Deg C, Water temp 29 Deg C</td>\n",
       "      <td>NaN</td>\n",
       "      <td>0% of recorded recently killed coral on substr...</td>\n",
       "      <td>Reef check submitted by Suchana Apple Chavanic...</td>\n",
       "      <td>NaN</td>\n",
       "      <td>MAC</td>\n",
       "    </tr>\n",
       "  </tbody>\n",
       "</table>\n",
       "<p>5 rows × 28 columns</p>\n",
       "</div>"
      ],
      "text/plain": [
       "     ID REGION SUBREGION COUNTRY               LOCATION    LAT    LON  MONTH  \\\n",
       "0  7067    NaN       NaN  France     Hermitage, Reunion -21.22  55.22    4.0   \n",
       "1  7068    NaN       NaN  France  Saint Gilles, Reunion -21.05  55.23    7.0   \n",
       "2  7069    NaN       NaN  France     Saint-Leu, Reunion -21.16  55.28    2.0   \n",
       "3  4024    NaN       NaN  France              SE France  43.00   5.00    8.0   \n",
       "4  7049    NaN       NaN   Macau   Koh Tao, Surat Thani  10.12  99.81    7.0   \n",
       "\n",
       "   YEAR DEPTH  ...  RECOVERY_CODE RECOVERY          SURVEY_TYPE SURVEY_AREA  \\\n",
       "0  2008     6  ...            NaN      NaN  Reef Check Protocol         NaN   \n",
       "1  2008   6.5  ...            NaN      NaN  Reef Check Protocol         NaN   \n",
       "2  2008     6  ...            NaN      NaN  Reef Check Protocol         NaN   \n",
       "3  1999   NaN  ...            NaN      NaN               Diving      100 km   \n",
       "4  2009     4  ...            NaN      NaN  Reef Check Protocol         NaN   \n",
       "\n",
       "                        WATER_TEMPERATURE OTHER_FACTORS  \\\n",
       "0                                     NaN           NaN   \n",
       "1                                     NaN           NaN   \n",
       "2                                     NaN           NaN   \n",
       "3                              22-23.9 °C           NaN   \n",
       "4  Air temp 28 Deg C, Water temp 29 Deg C           NaN   \n",
       "\n",
       "                                             REMARKS  \\\n",
       "0  0% of recorded Recently killed coral on substr...   \n",
       "1  0% of recorded Recently killed coral on substr...   \n",
       "2  0% of recorded Recently killed coral on substr...   \n",
       "3  Bleaching of Cladocora caespitosa and Oculina ...   \n",
       "4  0% of recorded recently killed coral on substr...   \n",
       "\n",
       "                                              SOURCE  REFERENCE_CODE  \\\n",
       "0  Reef Check, Submitted by Harold Cambert. Site ...             NaN   \n",
       "1  Reef Check, Submitted by Harold Cambert. Site ...             NaN   \n",
       "2  Reef Check, Submitted by Harold Cambert . Site...             NaN   \n",
       "3  Martin Pêcheux (martin-pecheux@wanadoo.fr) per...             NaN   \n",
       "4  Reef check submitted by Suchana Apple Chavanic...             NaN   \n",
       "\n",
       "  COUNTRY_CODE  \n",
       "0          FRA  \n",
       "1          FRA  \n",
       "2          FRA  \n",
       "3          FRA  \n",
       "4          MAC  \n",
       "\n",
       "[5 rows x 28 columns]"
      ]
     },
     "execution_count": 3,
     "metadata": {},
     "output_type": "execute_result"
    }
   ],
   "source": [
    "# Read the csv file into a pandas DataFrame\n",
    "\n",
    "coralBleaching = pd.read_csv('CoralBleaching.csv')\n",
    "coralBleaching.head()"
   ]
  },
  {
   "cell_type": "code",
   "execution_count": 4,
   "metadata": {
    "scrolled": true
   },
   "outputs": [
    {
     "name": "stdout",
     "output_type": "stream",
     "text": [
      "ID\n",
      "REGION\n",
      "SUBREGION\n",
      "COUNTRY\n",
      "LOCATION\n",
      "LAT\n",
      "LON\n",
      "MONTH\n",
      "YEAR\n",
      "DEPTH\n",
      "SEVERITY_CODE\n",
      "BLEACHING_SEVERITY\n",
      "CORAL_FAMILY\n",
      "CORAL_SPECIES\n",
      "PERCENTAGE_AFFECTED\n",
      "BLEACHING_DURATION\n",
      "MORTALITY_CODE\n",
      "MORTALITY\n",
      "RECOVERY_CODE\n",
      "RECOVERY\n",
      "SURVEY_TYPE\n",
      "SURVEY_AREA\n",
      "WATER_TEMPERATURE\n",
      "OTHER_FACTORS\n",
      "REMARKS\n",
      "SOURCE\n",
      "REFERENCE_CODE\n",
      "COUNTRY_CODE\n"
     ]
    }
   ],
   "source": [
    "for col in coralBleaching.columns: \n",
    "    print(col) "
   ]
  },
  {
   "cell_type": "code",
   "execution_count": 5,
   "metadata": {},
   "outputs": [
    {
     "data": {
      "text/html": [
       "<div>\n",
       "<style scoped>\n",
       "    .dataframe tbody tr th:only-of-type {\n",
       "        vertical-align: middle;\n",
       "    }\n",
       "\n",
       "    .dataframe tbody tr th {\n",
       "        vertical-align: top;\n",
       "    }\n",
       "\n",
       "    .dataframe thead th {\n",
       "        text-align: right;\n",
       "    }\n",
       "</style>\n",
       "<table border=\"1\" class=\"dataframe\">\n",
       "  <thead>\n",
       "    <tr style=\"text-align: right;\">\n",
       "      <th></th>\n",
       "      <th>ID</th>\n",
       "      <th>REGION</th>\n",
       "      <th>SUBREGION</th>\n",
       "      <th>COUNTRY</th>\n",
       "      <th>LAT</th>\n",
       "      <th>LON</th>\n",
       "      <th>YEAR</th>\n",
       "      <th>DEPTH</th>\n",
       "      <th>SEVERITY_CODE</th>\n",
       "      <th>BLEACHING_SEVERITY</th>\n",
       "      <th>CORAL_SPECIES</th>\n",
       "      <th>PERCENTAGE_AFFECTED</th>\n",
       "      <th>MORTALITY_CODE</th>\n",
       "      <th>RECOVERY_CODE</th>\n",
       "      <th>COUNTRY_CODE</th>\n",
       "    </tr>\n",
       "  </thead>\n",
       "  <tbody>\n",
       "    <tr>\n",
       "      <th>0</th>\n",
       "      <td>7067</td>\n",
       "      <td>NaN</td>\n",
       "      <td>NaN</td>\n",
       "      <td>France</td>\n",
       "      <td>-21.22</td>\n",
       "      <td>55.22</td>\n",
       "      <td>2008</td>\n",
       "      <td>6</td>\n",
       "      <td>0</td>\n",
       "      <td>No Bleaching</td>\n",
       "      <td>NaN</td>\n",
       "      <td>NaN</td>\n",
       "      <td>NaN</td>\n",
       "      <td>NaN</td>\n",
       "      <td>FRA</td>\n",
       "    </tr>\n",
       "    <tr>\n",
       "      <th>1</th>\n",
       "      <td>7068</td>\n",
       "      <td>NaN</td>\n",
       "      <td>NaN</td>\n",
       "      <td>France</td>\n",
       "      <td>-21.05</td>\n",
       "      <td>55.23</td>\n",
       "      <td>2008</td>\n",
       "      <td>6.5</td>\n",
       "      <td>0</td>\n",
       "      <td>No Bleaching</td>\n",
       "      <td>NaN</td>\n",
       "      <td>NaN</td>\n",
       "      <td>NaN</td>\n",
       "      <td>NaN</td>\n",
       "      <td>FRA</td>\n",
       "    </tr>\n",
       "    <tr>\n",
       "      <th>2</th>\n",
       "      <td>7069</td>\n",
       "      <td>NaN</td>\n",
       "      <td>NaN</td>\n",
       "      <td>France</td>\n",
       "      <td>-21.16</td>\n",
       "      <td>55.28</td>\n",
       "      <td>2008</td>\n",
       "      <td>6</td>\n",
       "      <td>0</td>\n",
       "      <td>No Bleaching</td>\n",
       "      <td>NaN</td>\n",
       "      <td>NaN</td>\n",
       "      <td>NaN</td>\n",
       "      <td>NaN</td>\n",
       "      <td>FRA</td>\n",
       "    </tr>\n",
       "    <tr>\n",
       "      <th>3</th>\n",
       "      <td>4024</td>\n",
       "      <td>NaN</td>\n",
       "      <td>NaN</td>\n",
       "      <td>France</td>\n",
       "      <td>43.00</td>\n",
       "      <td>5.00</td>\n",
       "      <td>1999</td>\n",
       "      <td>NaN</td>\n",
       "      <td>-1</td>\n",
       "      <td>Severity Unknown</td>\n",
       "      <td>Cladocora caespitosa, Oculina patagonensis</td>\n",
       "      <td>NaN</td>\n",
       "      <td>NaN</td>\n",
       "      <td>NaN</td>\n",
       "      <td>FRA</td>\n",
       "    </tr>\n",
       "    <tr>\n",
       "      <th>4</th>\n",
       "      <td>7049</td>\n",
       "      <td>NaN</td>\n",
       "      <td>NaN</td>\n",
       "      <td>Macau</td>\n",
       "      <td>10.12</td>\n",
       "      <td>99.81</td>\n",
       "      <td>2009</td>\n",
       "      <td>4</td>\n",
       "      <td>0</td>\n",
       "      <td>No Bleaching</td>\n",
       "      <td>NaN</td>\n",
       "      <td>NaN</td>\n",
       "      <td>NaN</td>\n",
       "      <td>NaN</td>\n",
       "      <td>MAC</td>\n",
       "    </tr>\n",
       "  </tbody>\n",
       "</table>\n",
       "</div>"
      ],
      "text/plain": [
       "     ID REGION SUBREGION COUNTRY    LAT    LON  YEAR DEPTH  SEVERITY_CODE  \\\n",
       "0  7067    NaN       NaN  France -21.22  55.22  2008     6              0   \n",
       "1  7068    NaN       NaN  France -21.05  55.23  2008   6.5              0   \n",
       "2  7069    NaN       NaN  France -21.16  55.28  2008     6              0   \n",
       "3  4024    NaN       NaN  France  43.00   5.00  1999   NaN             -1   \n",
       "4  7049    NaN       NaN   Macau  10.12  99.81  2009     4              0   \n",
       "\n",
       "  BLEACHING_SEVERITY                               CORAL_SPECIES  \\\n",
       "0       No Bleaching                                         NaN   \n",
       "1       No Bleaching                                         NaN   \n",
       "2       No Bleaching                                         NaN   \n",
       "3   Severity Unknown  Cladocora caespitosa, Oculina patagonensis   \n",
       "4       No Bleaching                                         NaN   \n",
       "\n",
       "  PERCENTAGE_AFFECTED  MORTALITY_CODE  RECOVERY_CODE COUNTRY_CODE  \n",
       "0                 NaN             NaN            NaN          FRA  \n",
       "1                 NaN             NaN            NaN          FRA  \n",
       "2                 NaN             NaN            NaN          FRA  \n",
       "3                 NaN             NaN            NaN          FRA  \n",
       "4                 NaN             NaN            NaN          MAC  "
      ]
     },
     "execution_count": 5,
     "metadata": {},
     "output_type": "execute_result"
    }
   ],
   "source": [
    "coralReduced = coralBleaching[[\"ID\",\"REGION\",\"SUBREGION\",\"COUNTRY\",\"LAT\",\"LON\",\"YEAR\",\"DEPTH\",\"SEVERITY_CODE\",\"BLEACHING_SEVERITY\",\"CORAL_SPECIES\",\"PERCENTAGE_AFFECTED\",\"MORTALITY_CODE\",\"RECOVERY_CODE\",\"COUNTRY_CODE\"]]\n",
    "coralReduced.head()"
   ]
  },
  {
   "cell_type": "code",
   "execution_count": 7,
   "metadata": {
    "nbgrader": {
     "grade": false,
     "grade_id": "cell-41760f7611f17b25",
     "locked": false,
     "schema_version": 1,
     "solution": true
    }
   },
   "outputs": [
    {
     "data": {
      "text/html": [
       "<div>\n",
       "<style scoped>\n",
       "    .dataframe tbody tr th:only-of-type {\n",
       "        vertical-align: middle;\n",
       "    }\n",
       "\n",
       "    .dataframe tbody tr th {\n",
       "        vertical-align: top;\n",
       "    }\n",
       "\n",
       "    .dataframe thead th {\n",
       "        text-align: right;\n",
       "    }\n",
       "</style>\n",
       "<table border=\"1\" class=\"dataframe\">\n",
       "  <thead>\n",
       "    <tr style=\"text-align: right;\">\n",
       "      <th></th>\n",
       "      <th>ID</th>\n",
       "      <th>LAT</th>\n",
       "      <th>LON</th>\n",
       "      <th>YEAR</th>\n",
       "      <th>SEVERITY_CODE</th>\n",
       "      <th>MORTALITY_CODE</th>\n",
       "      <th>RECOVERY_CODE</th>\n",
       "      <th>REGION_Africa</th>\n",
       "      <th>REGION_Americas</th>\n",
       "      <th>REGION_Asia</th>\n",
       "      <th>...</th>\n",
       "      <th>COUNTRY_CODE_VEN</th>\n",
       "      <th>COUNTRY_CODE_VIR</th>\n",
       "      <th>COUNTRY_CODE_VIR_CRO</th>\n",
       "      <th>COUNTRY_CODE_VIR_JOH</th>\n",
       "      <th>COUNTRY_CODE_VNM</th>\n",
       "      <th>COUNTRY_CODE_VUT</th>\n",
       "      <th>COUNTRY_CODE_WSM</th>\n",
       "      <th>COUNTRY_CODE_YEM</th>\n",
       "      <th>COUNTRY_CODE_YEM_ADE</th>\n",
       "      <th>COUNTRY_CODE_ZAF</th>\n",
       "    </tr>\n",
       "  </thead>\n",
       "  <tbody>\n",
       "    <tr>\n",
       "      <th>0</th>\n",
       "      <td>7067</td>\n",
       "      <td>-21.22</td>\n",
       "      <td>55.22</td>\n",
       "      <td>2008</td>\n",
       "      <td>0</td>\n",
       "      <td>NaN</td>\n",
       "      <td>NaN</td>\n",
       "      <td>0</td>\n",
       "      <td>0</td>\n",
       "      <td>0</td>\n",
       "      <td>...</td>\n",
       "      <td>0</td>\n",
       "      <td>0</td>\n",
       "      <td>0</td>\n",
       "      <td>0</td>\n",
       "      <td>0</td>\n",
       "      <td>0</td>\n",
       "      <td>0</td>\n",
       "      <td>0</td>\n",
       "      <td>0</td>\n",
       "      <td>0</td>\n",
       "    </tr>\n",
       "    <tr>\n",
       "      <th>1</th>\n",
       "      <td>7068</td>\n",
       "      <td>-21.05</td>\n",
       "      <td>55.23</td>\n",
       "      <td>2008</td>\n",
       "      <td>0</td>\n",
       "      <td>NaN</td>\n",
       "      <td>NaN</td>\n",
       "      <td>0</td>\n",
       "      <td>0</td>\n",
       "      <td>0</td>\n",
       "      <td>...</td>\n",
       "      <td>0</td>\n",
       "      <td>0</td>\n",
       "      <td>0</td>\n",
       "      <td>0</td>\n",
       "      <td>0</td>\n",
       "      <td>0</td>\n",
       "      <td>0</td>\n",
       "      <td>0</td>\n",
       "      <td>0</td>\n",
       "      <td>0</td>\n",
       "    </tr>\n",
       "    <tr>\n",
       "      <th>2</th>\n",
       "      <td>7069</td>\n",
       "      <td>-21.16</td>\n",
       "      <td>55.28</td>\n",
       "      <td>2008</td>\n",
       "      <td>0</td>\n",
       "      <td>NaN</td>\n",
       "      <td>NaN</td>\n",
       "      <td>0</td>\n",
       "      <td>0</td>\n",
       "      <td>0</td>\n",
       "      <td>...</td>\n",
       "      <td>0</td>\n",
       "      <td>0</td>\n",
       "      <td>0</td>\n",
       "      <td>0</td>\n",
       "      <td>0</td>\n",
       "      <td>0</td>\n",
       "      <td>0</td>\n",
       "      <td>0</td>\n",
       "      <td>0</td>\n",
       "      <td>0</td>\n",
       "    </tr>\n",
       "    <tr>\n",
       "      <th>3</th>\n",
       "      <td>4024</td>\n",
       "      <td>43.00</td>\n",
       "      <td>5.00</td>\n",
       "      <td>1999</td>\n",
       "      <td>-1</td>\n",
       "      <td>NaN</td>\n",
       "      <td>NaN</td>\n",
       "      <td>0</td>\n",
       "      <td>0</td>\n",
       "      <td>0</td>\n",
       "      <td>...</td>\n",
       "      <td>0</td>\n",
       "      <td>0</td>\n",
       "      <td>0</td>\n",
       "      <td>0</td>\n",
       "      <td>0</td>\n",
       "      <td>0</td>\n",
       "      <td>0</td>\n",
       "      <td>0</td>\n",
       "      <td>0</td>\n",
       "      <td>0</td>\n",
       "    </tr>\n",
       "    <tr>\n",
       "      <th>4</th>\n",
       "      <td>7049</td>\n",
       "      <td>10.12</td>\n",
       "      <td>99.81</td>\n",
       "      <td>2009</td>\n",
       "      <td>0</td>\n",
       "      <td>NaN</td>\n",
       "      <td>NaN</td>\n",
       "      <td>0</td>\n",
       "      <td>0</td>\n",
       "      <td>0</td>\n",
       "      <td>...</td>\n",
       "      <td>0</td>\n",
       "      <td>0</td>\n",
       "      <td>0</td>\n",
       "      <td>0</td>\n",
       "      <td>0</td>\n",
       "      <td>0</td>\n",
       "      <td>0</td>\n",
       "      <td>0</td>\n",
       "      <td>0</td>\n",
       "      <td>0</td>\n",
       "    </tr>\n",
       "  </tbody>\n",
       "</table>\n",
       "<p>5 rows × 2236 columns</p>\n",
       "</div>"
      ],
      "text/plain": [
       "     ID    LAT    LON  YEAR  SEVERITY_CODE  MORTALITY_CODE  RECOVERY_CODE  \\\n",
       "0  7067 -21.22  55.22  2008              0             NaN            NaN   \n",
       "1  7068 -21.05  55.23  2008              0             NaN            NaN   \n",
       "2  7069 -21.16  55.28  2008              0             NaN            NaN   \n",
       "3  4024  43.00   5.00  1999             -1             NaN            NaN   \n",
       "4  7049  10.12  99.81  2009              0             NaN            NaN   \n",
       "\n",
       "   REGION_Africa  REGION_Americas  REGION_Asia  ...  COUNTRY_CODE_VEN  \\\n",
       "0              0                0            0  ...                 0   \n",
       "1              0                0            0  ...                 0   \n",
       "2              0                0            0  ...                 0   \n",
       "3              0                0            0  ...                 0   \n",
       "4              0                0            0  ...                 0   \n",
       "\n",
       "   COUNTRY_CODE_VIR  COUNTRY_CODE_VIR_CRO  COUNTRY_CODE_VIR_JOH  \\\n",
       "0                 0                     0                     0   \n",
       "1                 0                     0                     0   \n",
       "2                 0                     0                     0   \n",
       "3                 0                     0                     0   \n",
       "4                 0                     0                     0   \n",
       "\n",
       "   COUNTRY_CODE_VNM  COUNTRY_CODE_VUT  COUNTRY_CODE_WSM  COUNTRY_CODE_YEM  \\\n",
       "0                 0                 0                 0                 0   \n",
       "1                 0                 0                 0                 0   \n",
       "2                 0                 0                 0                 0   \n",
       "3                 0                 0                 0                 0   \n",
       "4                 0                 0                 0                 0   \n",
       "\n",
       "   COUNTRY_CODE_YEM_ADE  COUNTRY_CODE_ZAF  \n",
       "0                     0                 0  \n",
       "1                     0                 0  \n",
       "2                     0                 0  \n",
       "3                     0                 0  \n",
       "4                     0                 0  \n",
       "\n",
       "[5 rows x 2236 columns]"
      ]
     },
     "execution_count": 7,
     "metadata": {},
     "output_type": "execute_result"
    }
   ],
   "source": [
    "# Use Pandas get_dummies to convert categorical data\n",
    "\n",
    "### BEGIN SOLUTION\n",
    "coralReducedBinary = pd.get_dummies(coralReduced)\n",
    "coralReducedBinary.to_csv(\"coralReducedBinary1.csv\", index=False)\n",
    "coralReducedBinary.head()\n",
    "### END SOLUTION"
   ]
  },
  {
   "cell_type": "code",
   "execution_count": 9,
   "metadata": {
    "nbgrader": {
     "grade": false,
     "grade_id": "cell-a61368ced39885a2",
     "locked": false,
     "schema_version": 1,
     "solution": true
    }
   },
   "outputs": [],
   "source": [
    "# Assign X (data) and y (target)\n",
    "\n",
    "### BEGIN SOLUTION\n",
    "#X = coralReducedBinary[[\"COUNTRY_American Samoa\",\"COUNTRY_Aruba\",\"COUNTRY_Australia\",\"COUNTRY_Australia (North)\",\"COUNTRY_Australia (West)\",\"COUNTRY_Bahamas\",\"COUNTRY_Bahrain\",\"COUNTRY_Baker and Howland Islands\",\"COUNTRY_Barbados\",\"COUNTRY_Belize\",\"COUNTRY_Bermuda\",\"COUNTRY_Borneo\",\"COUNTRY_Brazil\",\"COUNTRY_Cambodia\",\"COUNTRY_Cayman Islands\",\"COUNTRY_Chagos Archipelago (UK)\",\"COUNTRY_Chile\",\"COUNTRY_Colombia\",\"COUNTRY_Comoros\",\"COUNTRY_Cook Islands\",\"COUNTRY_Costa Rica\",\"COUNTRY_Cuba\",\"COUNTRY_Dominica\",\"COUNTRY_Dominican Republic\",\"COUNTRY_Ecuador\",\"COUNTRY_Egypt\",\"COUNTRY_Eritrea\",\"COUNTRY_Federated States of Micronesia\",\"COUNTRY_Fiji\",\"COUNTRY_Florida (USA)\",\"COUNTRY_France\",\"COUNTRY_French Polynesia\",\"COUNTRY_Grenada\",\"COUNTRY_Guadeloupe\",\"COUNTRY_Guam\",\"COUNTRY_Haiti\",\"COUNTRY_Hawaiian Islands (USA)\",\"COUNTRY_Honduras\",\"COUNTRY_India\",\"COUNTRY_Indonesia\",\"COUNTRY_Iran\",\"COUNTRY_Israel\",\"COUNTRY_Jamaica\",\"COUNTRY_Japan\",\"COUNTRY_Kenya\",\"COUNTRY_Kiribati\",\"COUNTRY_Kuwait\",\"COUNTRY_Macau\",\"COUNTRY_Madagascar\",\"COUNTRY_Malaysia\",\"COUNTRY_Maldives\",\"COUNTRY_Marshall Islands\",\"COUNTRY_Martinique\",\"COUNTRY_Mauritania\",\"COUNTRY_Mauritius\",\"COUNTRY_Mayotte\",\"COUNTRY_Mexico\",\"COUNTRY_Mexico (Caribbean)\",\"COUNTRY_Mexico (Pacific)\",\"COUNTRY_Minor Outlying Islands\",\"COUNTRY_Mozambique\",\"COUNTRY_Netherlands Antilles\",\"COUNTRY_New Caledonia\",\"COUNTRY_New Zealand\",\"COUNTRY_Nicaragua\",\"COUNTRY_Northern Mariana Islands\",\"COUNTRY_Oman\",\"COUNTRY_Palau\",\"COUNTRY_Palmyra Atoll\",\"COUNTRY_Panama\",\"COUNTRY_Panama (Atlantic)\",\"COUNTRY_Papua New Guinea\",\"COUNTRY_Peninsular\",\"COUNTRY_Philippines\",\"COUNTRY_Puerto Rico\",\"COUNTRY_Qatar\",\"COUNTRY_Samoa\",\"COUNTRY_Saudi Arabia\",\"COUNTRY_Seychelles\",\"COUNTRY_Singapore\",\"COUNTRY_Solomon Islands\",\"COUNTRY_Somalia\",\"COUNTRY_South Africa\",\"COUNTRY_Sri Lanka\",\"COUNTRY_St. Croix\",\"COUNTRY_St. Helena\",\"COUNTRY_St. Johnson & Thomas\",\"COUNTRY_St. Kitts and Nevis\",\"COUNTRY_St. Lucia\",\"COUNTRY_St. Vincent and the Grenadines\",\"COUNTRY_Sulawesi\",\"COUNTRY_Taiwan\",\"COUNTRY_Tanzania\",\"COUNTRY_Thailand\",\"COUNTRY_Timor-Leste\",\"COUNTRY_Tonga\",\"COUNTRY_Torres Strait & Great Barrier Reef\",\"COUNTRY_Trinidad and Tobago\",\"COUNTRY_Turks and Caicos Islands\",\"COUNTRY_Tuvalu\",\"COUNTRY_United Arab Emirates\",\"COUNTRY_United Kingdom\",\"COUNTRY_United States\",\"COUNTRY_Vanuatu\",\"COUNTRY_Venezuela\",\"COUNTRY_Vietnam\",\"COUNTRY_Virgin Islands (British)\",\"COUNTRY_Virgin Islands (U.S.)\",\"COUNTRY_Yemen\",\"COUNTRY_Yemen (Gulf of Aden)\",\"COUNTRY_Zanzibar Islands\"]]\n",
    "#y = coralReducedBinary[\"SEVERITY_CODE\"].values.reshape(-1, 1)\n",
    "#print(X.shape, y.shape)\n",
    "### END SOLUTION"
   ]
  },
  {
   "cell_type": "code",
   "execution_count": 10,
   "metadata": {},
   "outputs": [],
   "source": [
    "# Assign X (data) and y (target)\n",
    "\n",
    "### BEGIN SOLUTION\n",
    "#X = coralReducedBinary[[\"LAT\",\"LON\",\"SEVERITY_CODE\"]]\n",
    "#y = coralReducedBinary[\"YEAR\"].values.reshape(-1, 1)\n",
    "#print(X.shape, y.shape)\n",
    "### END SOLUTION"
   ]
  },
  {
   "cell_type": "code",
   "execution_count": 11,
   "metadata": {},
   "outputs": [],
   "source": [
    "# Assign X (data) and y (target)\n",
    "\n",
    "### BEGIN SOLUTION\n",
    "#X = coralReducedBinary[[\"LAT\",\"LON\",\"SEVERITY_CODE\",\"REGION_Africa\",\"REGION_Americas\",\"REGION_Asia\",\"REGION_Australia\",\"REGION_Middle East\",\"REGION_Pacific\"]]\n",
    "#y = coralReducedBinary[\"YEAR\"].values.reshape(-1, 1)\n",
    "#print(X.shape, y.shape)\n",
    "### END SOLUTION"
   ]
  },
  {
   "cell_type": "code",
   "execution_count": 12,
   "metadata": {},
   "outputs": [
    {
     "name": "stdout",
     "output_type": "stream",
     "text": [
      "(6190, 14) (6190, 1)\n"
     ]
    }
   ],
   "source": [
    "# Assign X (data) and y (target)\n",
    "\n",
    "### BEGIN SOLUTION\n",
    "X = coralReducedBinary[[\"LAT\",\"LON\",\"SEVERITY_CODE\",\"REGION_Africa\",\"REGION_Americas\",\"REGION_Asia\",\"REGION_Australia\",\"REGION_Middle East\",\"REGION_Pacific\",\"BLEACHING_SEVERITY_HIGH\",\"BLEACHING_SEVERITY_Low\",\"BLEACHING_SEVERITY_Medium\",\"BLEACHING_SEVERITY_No Bleaching\",\"BLEACHING_SEVERITY_Severity Unknown\"]]\n",
    "y = coralReducedBinary[\"YEAR\"].values.reshape(-1, 1)\n",
    "print(X.shape, y.shape)\n",
    "### END SOLUTION"
   ]
  },
  {
   "cell_type": "code",
   "execution_count": 13,
   "metadata": {
    "nbgrader": {
     "grade": false,
     "grade_id": "cell-62193e4c8caef9c5",
     "locked": false,
     "schema_version": 1,
     "solution": true
    }
   },
   "outputs": [],
   "source": [
    "# Split the data into training and testing\n",
    "\n",
    "### BEGIN SOLUTION\n",
    "from sklearn.model_selection import train_test_split\n",
    "\n",
    "X_train, X_test, y_train, y_test = train_test_split(X, y, random_state=42)\n",
    "### END SOLUTION"
   ]
  },
  {
   "cell_type": "code",
   "execution_count": 14,
   "metadata": {
    "nbgrader": {
     "grade": false,
     "grade_id": "cell-a885840c1f62d274",
     "locked": false,
     "schema_version": 1,
     "solution": true
    }
   },
   "outputs": [],
   "source": [
    "from sklearn.preprocessing import StandardScaler\n",
    "\n",
    "# Create a StandardScater model and fit it to the training data\n",
    "\n",
    "### BEGIN SOLUTION\n",
    "X_scaler = StandardScaler().fit(X_train)\n",
    "y_scaler = StandardScaler().fit(y_train)\n",
    "### END SOLUTION"
   ]
  },
  {
   "cell_type": "code",
   "execution_count": 15,
   "metadata": {
    "nbgrader": {
     "grade": false,
     "grade_id": "cell-a9cd5d1ec0f114ea",
     "locked": false,
     "schema_version": 1,
     "solution": true
    }
   },
   "outputs": [],
   "source": [
    "# Transform the training and testing data using the X_scaler and y_scaler models\n",
    "\n",
    "### BEGIN SOLUTION\n",
    "X_train_scaled = X_scaler.transform(X_train)\n",
    "X_test_scaled = X_scaler.transform(X_test)\n",
    "y_train_scaled = y_scaler.transform(y_train)\n",
    "y_test_scaled = y_scaler.transform(y_test)\n",
    "### END SOLUTION"
   ]
  },
  {
   "cell_type": "code",
   "execution_count": 16,
   "metadata": {
    "nbgrader": {
     "grade": false,
     "grade_id": "cell-4df70e615bb36ac1",
     "locked": false,
     "schema_version": 1,
     "solution": true
    }
   },
   "outputs": [
    {
     "data": {
      "text/plain": [
       "LinearRegression(copy_X=True, fit_intercept=True, n_jobs=None, normalize=False)"
      ]
     },
     "execution_count": 16,
     "metadata": {},
     "output_type": "execute_result"
    }
   ],
   "source": [
    "# Create a LinearRegression model and fit it to the scaled training data\n",
    "\n",
    "### BEGIN SOLUTION\n",
    "from sklearn.linear_model import LinearRegression\n",
    "model = LinearRegression()\n",
    "model.fit(X_train_scaled, y_train_scaled)\n",
    "### END SOLUTION"
   ]
  },
  {
   "cell_type": "code",
   "execution_count": 17,
   "metadata": {
    "nbgrader": {
     "grade": false,
     "grade_id": "cell-ec6532d8dc790021",
     "locked": false,
     "schema_version": 1,
     "solution": true
    }
   },
   "outputs": [
    {
     "data": {
      "image/png": "[encoded data removed]",
      "text/plain": [
       "<Figure size 432x288 with 1 Axes>"
      ]
     },
     "metadata": {
      "needs_background": "light"
     },
     "output_type": "display_data"
    }
   ],
   "source": [
    "# Make predictions using the X_test_scaled data\n",
    "# Plot y_test_scaled vs y_test_scaled\n",
    "# Scatter plot y_test_scaled vs predictions\n",
    "\n",
    "### BEGIN SOLUTION\n",
    "predictions = model.predict(X_test_scaled)\n",
    "model.fit(X_train_scaled, y_train_scaled)\n",
    "plt.scatter(model.predict(X_train_scaled), model.predict(X_train_scaled) - y_train_scaled, c=\"blue\", label=\"Training Data\")\n",
    "plt.scatter(model.predict(X_test_scaled), model.predict(X_test_scaled) - y_test_scaled, c=\"orange\", label=\"Testing Data\")\n",
    "plt.legend()\n",
    "plt.hlines(y=0, xmin=y_test_scaled.min(), xmax=y_test_scaled.max())\n",
    "plt.title(\"Residual Plot\")\n",
    "plt.show()\n",
    "### END SOLUTION"
   ]
  },
  {
   "cell_type": "code",
   "execution_count": 18,
   "metadata": {
    "nbgrader": {
     "grade": false,
     "grade_id": "cell-deb1d9b663c1883f",
     "locked": false,
     "schema_version": 1,
     "solution": true
    }
   },
   "outputs": [
    {
     "name": "stdout",
     "output_type": "stream",
     "text": [
      "MSE: 0.8324691522766763, R2: 0.12771602514891622\n"
     ]
    }
   ],
   "source": [
    "# Used X_test_scaled, y_test_scaled, and model.predict(X_test_scaled) to calculate MSE and R2\n",
    "\n",
    "### BEGIN SOLUTION\n",
    "from sklearn.metrics import mean_squared_error\n",
    "\n",
    "MSE = mean_squared_error(y_test_scaled, predictions)\n",
    "r2 = model.score(X_test_scaled, y_test_scaled)\n",
    "### END SOLUTION\n",
    "\n",
    "print(f\"MSE: {MSE}, R2: {r2}\")"
   ]
  },
  {
   "cell_type": "code",
   "execution_count": 19,
   "metadata": {
    "nbgrader": {
     "grade": false,
     "grade_id": "cell-1dbfa38f409ceb7c",
     "locked": false,
     "schema_version": 1,
     "solution": true
    }
   },
   "outputs": [
    {
     "name": "stdout",
     "output_type": "stream",
     "text": [
      "MSE: 0.8323965564389522, R2: 0.12779209305571437\n"
     ]
    }
   ],
   "source": [
    "# LASSO model\n",
    "# Note: Use an alpha of .01 when creating the model for this activity\n",
    "from sklearn.linear_model import Lasso\n",
    "\n",
    "### BEGIN SOLUTION\n",
    "lasso = Lasso(alpha=.01).fit(X_train_scaled, y_train_scaled)\n",
    "\n",
    "predictions = lasso.predict(X_test_scaled)\n",
    "\n",
    "MSE = mean_squared_error(y_test_scaled, predictions)\n",
    "r2 = lasso.score(X_test_scaled, y_test_scaled)\n",
    "### END SOLUTION\n",
    "\n",
    "print(f\"MSE: {MSE}, R2: {r2}\")"
   ]
  },
  {
   "cell_type": "code",
   "execution_count": 20,
   "metadata": {
    "nbgrader": {
     "grade": false,
     "grade_id": "cell-d7adb5db2fc7b236",
     "locked": false,
     "schema_version": 1,
     "solution": true
    }
   },
   "outputs": [
    {
     "name": "stdout",
     "output_type": "stream",
     "text": [
      "MSE: 0.8324688190850879, R2: 0.1277163742761871\n"
     ]
    }
   ],
   "source": [
    "# Ridge model\n",
    "# Note: Use an alpha of .01 when creating the model for this activity\n",
    "from sklearn.linear_model import Ridge\n",
    "\n",
    "### BEGIN SOLUTION\n",
    "ridge = Ridge(alpha=.01).fit(X_train_scaled, y_train_scaled)\n",
    "\n",
    "predictions = ridge.predict(X_test_scaled)\n",
    "\n",
    "MSE = mean_squared_error(y_test_scaled, predictions)\n",
    "r2 = ridge.score(X_test_scaled, y_test_scaled)\n",
    "### END SOLUTION\n",
    "\n",
    "print(f\"MSE: {MSE}, R2: {r2}\")"
   ]
  },
  {
   "cell_type": "code",
   "execution_count": 21,
   "metadata": {
    "nbgrader": {
     "grade": false,
     "grade_id": "cell-5b0241abbdaa88e9",
     "locked": false,
     "schema_version": 1,
     "solution": true
    }
   },
   "outputs": [
    {
     "name": "stdout",
     "output_type": "stream",
     "text": [
      "MSE: 0.8323017113904625, R2: 0.12789147429484526\n"
     ]
    }
   ],
   "source": [
    "# ElasticNet model\n",
    "# Note: Use an alpha of .01 when creating the model for this activity\n",
    "from sklearn.linear_model import ElasticNet\n",
    "\n",
    "### BEGIN SOLUTION\n",
    "elasticnet = ElasticNet(alpha=.01).fit(X_train_scaled, y_train_scaled)\n",
    "\n",
    "predictions = elasticnet.predict(X_test_scaled)\n",
    "\n",
    "MSE = mean_squared_error(y_test_scaled, predictions)\n",
    "r2 = elasticnet.score(X_test_scaled, y_test_scaled)\n",
    "### END SOLUTION\n",
    "\n",
    "print(f\"MSE: {MSE}, R2: {r2}\")"
   ]
  },
  {
   "cell_type": "code",
   "execution_count": 22,
   "metadata": {},
   "outputs": [
    {
     "data": {
      "text/plain": [
       "LogisticRegression(C=1.0, class_weight=None, dual=False, fit_intercept=True,\n",
       "                   intercept_scaling=1, l1_ratio=None, max_iter=100,\n",
       "                   multi_class='auto', n_jobs=None, penalty='l2',\n",
       "                   random_state=None, solver='lbfgs', tol=0.0001, verbose=0,\n",
       "                   warm_start=False)"
      ]
     },
     "execution_count": 22,
     "metadata": {},
     "output_type": "execute_result"
    }
   ],
   "source": [
    "from sklearn.linear_model import LogisticRegression\n",
    "classifier = LogisticRegression()\n",
    "classifier"
   ]
  },
  {
   "cell_type": "code",
   "execution_count": 23,
   "metadata": {},
   "outputs": [
    {
     "name": "stderr",
     "output_type": "stream",
     "text": [
      "/Users/nancycampos/anaconda3/lib/python3.7/site-packages/sklearn/utils/validation.py:760: DataConversionWarning: A column-vector y was passed when a 1d array was expected. Please change the shape of y to (n_samples, ), for example using ravel().\n",
      "  y = column_or_1d(y, warn=True)\n",
      "/Users/nancycampos/anaconda3/lib/python3.7/site-packages/sklearn/linear_model/_logistic.py:940: ConvergenceWarning: lbfgs failed to converge (status=1):\n",
      "STOP: TOTAL NO. of ITERATIONS REACHED LIMIT.\n",
      "\n",
      "Increase the number of iterations (max_iter) or scale the data as shown in:\n",
      "    https://scikit-learn.org/stable/modules/preprocessing.html\n",
      "Please also refer to the documentation for alternative solver options:\n",
      "    https://scikit-learn.org/stable/modules/linear_model.html#logistic-regression\n",
      "  extra_warning_msg=_LOGISTIC_SOLVER_CONVERGENCE_MSG)\n"
     ]
    },
    {
     "data": {
      "text/plain": [
       "LogisticRegression(C=1.0, class_weight=None, dual=False, fit_intercept=True,\n",
       "                   intercept_scaling=1, l1_ratio=None, max_iter=100,\n",
       "                   multi_class='auto', n_jobs=None, penalty='l2',\n",
       "                   random_state=None, solver='lbfgs', tol=0.0001, verbose=0,\n",
       "                   warm_start=False)"
      ]
     },
     "execution_count": 23,
     "metadata": {},
     "output_type": "execute_result"
    }
   ],
   "source": [
    "classifier.fit(X_train, y_train)"
   ]
  },
  {
   "cell_type": "code",
   "execution_count": 24,
   "metadata": {},
   "outputs": [
    {
     "name": "stdout",
     "output_type": "stream",
     "text": [
      "Training Data Score: 0.37139164153382165\n",
      "Testing Data Score: 0.3611111111111111\n"
     ]
    }
   ],
   "source": [
    "print(f\"Training Data Score: {classifier.score(X_train, y_train)}\")\n",
    "print(f\"Testing Data Score: {classifier.score(X_test, y_test)}\")"
   ]
  },
  {
   "cell_type": "code",
   "execution_count": 29,
   "metadata": {},
   "outputs": [
    {
     "ename": "TypeError",
     "evalue": "'(slice(None, None, None), 0)' is an invalid key",
     "output_type": "error",
     "traceback": [
      "\u001b[0;31m---------------------------------------------------------------------------\u001b[0m",
      "\u001b[0;31mTypeError\u001b[0m                                 Traceback (most recent call last)",
      "\u001b[0;32m<ipython-input-29-9174b1738ba5>\u001b[0m in \u001b[0;36m<module>\u001b[0;34m\u001b[0m\n\u001b[1;32m      1\u001b[0m \u001b[0mnew_data\u001b[0m \u001b[0;34m=\u001b[0m \u001b[0mnp\u001b[0m\u001b[0;34m.\u001b[0m\u001b[0marray\u001b[0m\u001b[0;34m(\u001b[0m\u001b[0;34m[\u001b[0m\u001b[0;34m[\u001b[0m\u001b[0;36m6190\u001b[0m\u001b[0;34m,\u001b[0m \u001b[0;36m14\u001b[0m\u001b[0;34m]\u001b[0m\u001b[0;34m]\u001b[0m\u001b[0;34m)\u001b[0m\u001b[0;34m\u001b[0m\u001b[0;34m\u001b[0m\u001b[0m\n\u001b[0;32m----> 2\u001b[0;31m \u001b[0mplt\u001b[0m\u001b[0;34m.\u001b[0m\u001b[0mscatter\u001b[0m\u001b[0;34m(\u001b[0m\u001b[0mX\u001b[0m\u001b[0;34m[\u001b[0m\u001b[0;34m:\u001b[0m\u001b[0;34m,\u001b[0m \u001b[0;36m0\u001b[0m\u001b[0;34m]\u001b[0m\u001b[0;34m,\u001b[0m \u001b[0mX\u001b[0m\u001b[0;34m[\u001b[0m\u001b[0;34m:\u001b[0m\u001b[0;34m,\u001b[0m \u001b[0;36m1\u001b[0m\u001b[0;34m]\u001b[0m\u001b[0;34m,\u001b[0m \u001b[0mc\u001b[0m\u001b[0;34m=\u001b[0m\u001b[0my\u001b[0m\u001b[0;34m)\u001b[0m\u001b[0;34m\u001b[0m\u001b[0;34m\u001b[0m\u001b[0m\n\u001b[0m\u001b[1;32m      3\u001b[0m \u001b[0mplt\u001b[0m\u001b[0;34m.\u001b[0m\u001b[0mscatter\u001b[0m\u001b[0;34m(\u001b[0m\u001b[0mnew_data\u001b[0m\u001b[0;34m[\u001b[0m\u001b[0;36m0\u001b[0m\u001b[0;34m,\u001b[0m \u001b[0;36m0\u001b[0m\u001b[0;34m]\u001b[0m\u001b[0;34m,\u001b[0m \u001b[0mnew_data\u001b[0m\u001b[0;34m[\u001b[0m\u001b[0;36m0\u001b[0m\u001b[0;34m,\u001b[0m \u001b[0;36m1\u001b[0m\u001b[0;34m]\u001b[0m\u001b[0;34m,\u001b[0m \u001b[0mc\u001b[0m\u001b[0;34m=\u001b[0m\u001b[0;34m\"r\"\u001b[0m\u001b[0;34m,\u001b[0m \u001b[0mmarker\u001b[0m\u001b[0;34m=\u001b[0m\u001b[0;34m\"o\"\u001b[0m\u001b[0;34m,\u001b[0m \u001b[0ms\u001b[0m\u001b[0;34m=\u001b[0m\u001b[0;36m100\u001b[0m\u001b[0;34m)\u001b[0m\u001b[0;34m\u001b[0m\u001b[0;34m\u001b[0m\u001b[0m\n",
      "\u001b[0;32m~/anaconda3/lib/python3.7/site-packages/pandas/core/frame.py\u001b[0m in \u001b[0;36m__getitem__\u001b[0;34m(self, key)\u001b[0m\n\u001b[1;32m   2993\u001b[0m             \u001b[0;32mif\u001b[0m \u001b[0mself\u001b[0m\u001b[0;34m.\u001b[0m\u001b[0mcolumns\u001b[0m\u001b[0;34m.\u001b[0m\u001b[0mnlevels\u001b[0m \u001b[0;34m>\u001b[0m \u001b[0;36m1\u001b[0m\u001b[0;34m:\u001b[0m\u001b[0;34m\u001b[0m\u001b[0;34m\u001b[0m\u001b[0m\n\u001b[1;32m   2994\u001b[0m                 \u001b[0;32mreturn\u001b[0m \u001b[0mself\u001b[0m\u001b[0;34m.\u001b[0m\u001b[0m_getitem_multilevel\u001b[0m\u001b[0;34m(\u001b[0m\u001b[0mkey\u001b[0m\u001b[0;34m)\u001b[0m\u001b[0;34m\u001b[0m\u001b[0;34m\u001b[0m\u001b[0m\n\u001b[0;32m-> 2995\u001b[0;31m             \u001b[0mindexer\u001b[0m \u001b[0;34m=\u001b[0m \u001b[0mself\u001b[0m\u001b[0;34m.\u001b[0m\u001b[0mcolumns\u001b[0m\u001b[0;34m.\u001b[0m\u001b[0mget_loc\u001b[0m\u001b[0;34m(\u001b[0m\u001b[0mkey\u001b[0m\u001b[0;34m)\u001b[0m\u001b[0;34m\u001b[0m\u001b[0;34m\u001b[0m\u001b[0m\n\u001b[0m\u001b[1;32m   2996\u001b[0m             \u001b[0;32mif\u001b[0m \u001b[0mis_integer\u001b[0m\u001b[0;34m(\u001b[0m\u001b[0mindexer\u001b[0m\u001b[0;34m)\u001b[0m\u001b[0;34m:\u001b[0m\u001b[0;34m\u001b[0m\u001b[0;34m\u001b[0m\u001b[0m\n\u001b[1;32m   2997\u001b[0m                 \u001b[0mindexer\u001b[0m \u001b[0;34m=\u001b[0m \u001b[0;34m[\u001b[0m\u001b[0mindexer\u001b[0m\u001b[0;34m]\u001b[0m\u001b[0;34m\u001b[0m\u001b[0;34m\u001b[0m\u001b[0m\n",
      "\u001b[0;32m~/anaconda3/lib/python3.7/site-packages/pandas/core/indexes/base.py\u001b[0m in \u001b[0;36mget_loc\u001b[0;34m(self, key, method, tolerance)\u001b[0m\n\u001b[1;32m   2895\u001b[0m                 )\n\u001b[1;32m   2896\u001b[0m             \u001b[0;32mtry\u001b[0m\u001b[0;34m:\u001b[0m\u001b[0;34m\u001b[0m\u001b[0;34m\u001b[0m\u001b[0m\n\u001b[0;32m-> 2897\u001b[0;31m                 \u001b[0;32mreturn\u001b[0m \u001b[0mself\u001b[0m\u001b[0;34m.\u001b[0m\u001b[0m_engine\u001b[0m\u001b[0;34m.\u001b[0m\u001b[0mget_loc\u001b[0m\u001b[0;34m(\u001b[0m\u001b[0mkey\u001b[0m\u001b[0;34m)\u001b[0m\u001b[0;34m\u001b[0m\u001b[0;34m\u001b[0m\u001b[0m\n\u001b[0m\u001b[1;32m   2898\u001b[0m             \u001b[0;32mexcept\u001b[0m \u001b[0mKeyError\u001b[0m\u001b[0;34m:\u001b[0m\u001b[0;34m\u001b[0m\u001b[0;34m\u001b[0m\u001b[0m\n\u001b[1;32m   2899\u001b[0m                 \u001b[0;32mreturn\u001b[0m \u001b[0mself\u001b[0m\u001b[0;34m.\u001b[0m\u001b[0m_engine\u001b[0m\u001b[0;34m.\u001b[0m\u001b[0mget_loc\u001b[0m\u001b[0;34m(\u001b[0m\u001b[0mself\u001b[0m\u001b[0;34m.\u001b[0m\u001b[0m_maybe_cast_indexer\u001b[0m\u001b[0;34m(\u001b[0m\u001b[0mkey\u001b[0m\u001b[0;34m)\u001b[0m\u001b[0;34m)\u001b[0m\u001b[0;34m\u001b[0m\u001b[0;34m\u001b[0m\u001b[0m\n",
      "\u001b[0;32mpandas/_libs/index.pyx\u001b[0m in \u001b[0;36mpandas._libs.index.IndexEngine.get_loc\u001b[0;34m()\u001b[0m\n",
      "\u001b[0;32mpandas/_libs/index.pyx\u001b[0m in \u001b[0;36mpandas._libs.index.IndexEngine.get_loc\u001b[0;34m()\u001b[0m\n",
      "\u001b[0;31mTypeError\u001b[0m: '(slice(None, None, None), 0)' is an invalid key"
     ]
    }
   ],
   "source": [
    "new_data = np.array([[6190, 14]])\n",
    "plt.scatter(X[:, 0], X[:, 1], c=y)\n",
    "plt.scatter(new_data[0, 0], new_data[0, 1], c=\"r\", marker=\"o\", s=100)"
   ]
  },
  {
   "cell_type": "code",
   "execution_count": null,
   "metadata": {},
   "outputs": [],
   "source": []
  }
 ],
 "metadata": {
  "celltoolbar": "Create Assignment",
  "kernelspec": {
   "display_name": "Python 3",
   "language": "python",
   "name": "python3"
  },
  "language_info": {
   "codemirror_mode": {
    "name": "ipython",
    "version": 3
   },
   "file_extension": ".py",
   "mimetype": "text/x-python",
   "name": "python",
   "nbconvert_exporter": "python",
   "pygments_lexer": "ipython3",
   "version": "3.7.4"
  },
  "varInspector": {
   "cols": {
    "lenName": 16,
    "lenType": 16,
    "lenVar": 40
   },
   "kernels_config": {
    "python": {
     "delete_cmd_postfix": "",
     "delete_cmd_prefix": "del ",
     "library": "var_list.py",
     "varRefreshCmd": "print(var_dic_list())"
    },
    "r": {
     "delete_cmd_postfix": ") ",
     "delete_cmd_prefix": "rm(",
     "library": "var_list.r",
     "varRefreshCmd": "cat(var_dic_list()) "
    }
   },
   "types_to_exclude": [
    "module",
    "function",
    "builtin_function_or_method",
    "instance",
    "_Feature"
   ],
   "window_display": false
  }
 },
 "nbformat": 4,
 "nbformat_minor": 2
}
