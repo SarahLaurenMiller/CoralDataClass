{
 "cells": [
  {
   "cell_type": "code",
   "execution_count": 1,
   "metadata": {},
   "outputs": [],
   "source": [
    "%matplotlib inline\n",
    "import matplotlib.pyplot as plt\n",
    "import pandas as pd\n",
    "import numpy as np\n",
    "from scipy.optimize import curve_fit\n",
    "from scipy.optimize import differential_evolution\n",
    "import warnings"
   ]
  },
  {
   "cell_type": "code",
   "execution_count": 2,
   "metadata": {},
   "outputs": [],
   "source": [
    "#\n",
    "# Your Exponential Function\n",
    "#\n",
    "def func(x, a, b, c):\n",
    "    return a * np.exp(b * x) + c\n",
    "#y = 1.267326331·10-42 e5.318989729·10-2 x"
   ]
  },
  {
   "cell_type": "code",
   "execution_count": 3,
   "metadata": {},
   "outputs": [],
   "source": [
    "# function for genetic algorithm to minimize (sum of squared error)\n",
    "# https://stackoverflow.com/questions/56164659/scipy-curve-fit-do-not-converge-even-if-i-iteratively-change-initial-guess\n",
    "#\n",
    "# Notice I've used the NORMALIZED data here\n",
    "# The REGULAR data was too large in value and range\n",
    "# Normalizing made it easier for the algorithm to converge\n",
    "#\n",
    "def sumOfSquaredError(parameterTuple):\n",
    "    warnings.filterwarnings(\"ignore\") # do not print warnings by genetic algorithm\n",
    "    val = func(Xnorm, *parameterTuple)\n",
    "    return np.sum((ynorm - val) ** 2.0)\n",
    "\n",
    "\n",
    "def generate_Initial_Parameters():\n",
    "    minY = min(ynorm)\n",
    "    maxY = max(ynorm)\n",
    "\n",
    "    parameterBounds = []\n",
    "    parameterBounds.append([0.0, 5.0]) # search bounds for a\n",
    "    parameterBounds.append([5.0, 15.0]) # search bounds for b\n",
    "    parameterBounds.append([minY, maxY]) # search bounds for offset\n",
    "\n",
    "    # \"seed\" the numpy random number generator for repeatable results\n",
    "    result = differential_evolution(sumOfSquaredError, parameterBounds, seed=3)\n",
    "    return result.x\n",
    "\n",
    "def printModelPredictions(Xdata, ydata, popt):\n",
    "    modelPredictions = func(Xdata, *popt) \n",
    "    absError = modelPredictions - ydata\n",
    "\n",
    "    SE = np.square(absError) # squared errors\n",
    "    MSE = np.mean(SE) # mean squared errors\n",
    "    RMSE = np.sqrt(MSE) # Root Mean Squared Error, RMSE\n",
    "    Rsquared = 1.0 - (np.var(absError) / np.var(ydata))\n",
    "\n",
    "    print()\n",
    "    print('RMSE:', RMSE)\n",
    "    print('R-squared:', Rsquared)\n",
    "\n",
    "    print()"
   ]
  },
  {
   "cell_type": "code",
   "execution_count": 4,
   "metadata": {},
   "outputs": [
    {
     "data": {
      "text/plain": [
       "array([[2.0180e+03, 2.2274e+04],\n",
       "       [2.0170e+03, 5.3033e+04],\n",
       "       [2.0160e+03, 3.2030e+04],\n",
       "       [2.0150e+03, 3.4057e+04],\n",
       "       [2.0140e+03, 4.1286e+04],\n",
       "       [2.0130e+03, 1.5140e+04],\n",
       "       [2.0120e+03, 1.8670e+04],\n",
       "       [2.0110e+03, 3.9207e+04],\n",
       "       [2.0100e+03, 4.5804e+04],\n",
       "       [2.0090e+03, 1.8932e+04],\n",
       "       [2.0080e+03, 5.6232e+04],\n",
       "       [2.0070e+03, 4.3278e+04],\n",
       "       [2.0060e+03, 4.2534e+04],\n",
       "       [2.0050e+03, 4.4537e+04],\n",
       "       [2.0040e+03, 4.4943e+04],\n",
       "       [2.0030e+03, 3.2894e+04],\n",
       "       [2.0020e+03, 3.1268e+04],\n",
       "       [2.0010e+03, 1.0645e+04],\n",
       "       [2.0000e+03, 3.2230e+04],\n",
       "       [1.9990e+03, 4.6960e+03],\n",
       "       [1.9980e+03, 6.7200e+03],\n",
       "       [1.9970e+03, 5.8080e+03],\n",
       "       [1.9960e+03, 3.3210e+03],\n",
       "       [1.9950e+03, 3.4770e+03],\n",
       "       [1.9940e+03, 6.5880e+03],\n",
       "       [1.9930e+03, 4.7450e+03],\n",
       "       [1.9920e+03, 5.5300e+03],\n",
       "       [1.9910e+03, 7.3030e+03],\n",
       "       [1.9900e+03, 3.6120e+03],\n",
       "       [1.9890e+03, 1.3810e+03],\n",
       "       [1.9880e+03, 8.6700e+02],\n",
       "       [1.9870e+03, 5.6100e+02],\n",
       "       [1.9860e+03, 8.2900e+02],\n",
       "       [1.9850e+03, 1.3530e+03],\n",
       "       [1.9840e+03, 1.2900e+03],\n",
       "       [1.9830e+03, 8.0600e+02],\n",
       "       [1.9820e+03, 1.5750e+03],\n",
       "       [1.9810e+03, 2.0700e+03],\n",
       "       [1.9800e+03, 1.2010e+03],\n",
       "       [1.9790e+03, 3.6000e+02],\n",
       "       [1.9780e+03, 5.0900e+02],\n",
       "       [1.9770e+03, 5.9300e+02],\n",
       "       [1.9760e+03, 5.3300e+02],\n",
       "       [1.9750e+03, 6.5200e+02],\n",
       "       [1.9740e+03, 4.1800e+02],\n",
       "       [1.9730e+03, 4.3900e+02],\n",
       "       [1.9720e+03, 5.5700e+02],\n",
       "       [1.9710e+03, 6.9000e+02],\n",
       "       [1.9700e+03, 4.3500e+02],\n",
       "       [1.9690e+03, 5.6600e+02],\n",
       "       [1.9680e+03, 1.2180e+03],\n",
       "       [1.9670e+03, 6.9600e+02],\n",
       "       [1.9660e+03, 7.3800e+02],\n",
       "       [1.9650e+03, 9.5500e+02],\n",
       "       [1.9640e+03, 1.4410e+03],\n",
       "       [1.9630e+03, 8.3700e+02],\n",
       "       [1.9620e+03, 4.0500e+02],\n",
       "       [1.9610e+03, 3.0200e+02],\n",
       "       [1.9600e+03, 1.8200e+02],\n",
       "       [1.9590e+03, 1.7800e+02],\n",
       "       [1.9580e+03, 1.6100e+02],\n",
       "       [1.9570e+03, 1.7500e+02],\n",
       "       [1.9560e+03, 7.4000e+01],\n",
       "       [1.9550e+03, 5.4000e+01],\n",
       "       [1.9540e+03, 4.3000e+01],\n",
       "       [1.9530e+03, 9.0000e+00],\n",
       "       [1.9520e+03, 2.2000e+01],\n",
       "       [1.9510e+03, 2.0000e+01],\n",
       "       [1.9500e+03, 2.0000e+01],\n",
       "       [1.9490e+03, 1.3000e+01],\n",
       "       [1.9480e+03, 2.7000e+01],\n",
       "       [1.9470e+03, 2.4000e+01],\n",
       "       [1.9460e+03, 2.0000e+00],\n",
       "       [1.9450e+03, 3.0000e+00],\n",
       "       [1.9410e+03, 3.9000e+01],\n",
       "       [1.9400e+03, 2.5000e+01],\n",
       "       [1.9390e+03, 2.1200e+02],\n",
       "       [1.9380e+03, 1.0600e+02],\n",
       "       [1.9370e+03, 6.0000e+00],\n",
       "       [1.9360e+03, 1.4000e+01],\n",
       "       [1.9350e+03, 4.0000e+00],\n",
       "       [1.9340e+03, 1.2000e+01],\n",
       "       [1.9330e+03, 1.6700e+02],\n",
       "       [1.9320e+03, 1.3000e+01],\n",
       "       [1.9310e+03, 5.0000e+00],\n",
       "       [1.9290e+03, 3.0000e+00],\n",
       "       [1.9270e+03, 8.0000e+00],\n",
       "       [1.9260e+03, 5.0000e+00],\n",
       "       [1.9250e+03, 1.5000e+01],\n",
       "       [1.9240e+03, 4.0000e+00],\n",
       "       [1.9230e+03, 2.0000e+00],\n",
       "       [1.9220e+03, 3.0000e+00],\n",
       "       [1.9200e+03, 2.0000e+00],\n",
       "       [1.9190e+03, 1.0000e+00],\n",
       "       [1.9170e+03, 2.0000e+00],\n",
       "       [1.9150e+03, 1.0000e+00],\n",
       "       [1.9140e+03, 6.0000e+00],\n",
       "       [1.9130e+03, 5.0000e+00],\n",
       "       [1.9120e+03, 1.0000e+00],\n",
       "       [1.9110e+03, 3.0000e+00],\n",
       "       [1.9090e+03, 5.8900e+02],\n",
       "       [1.9080e+03, 5.0400e+02],\n",
       "       [1.9070e+03, 1.0000e+00],\n",
       "       [1.9060e+03, 4.5800e+02],\n",
       "       [1.9050e+03, 9.4200e+02],\n",
       "       [1.9040e+03, 8.6000e+01],\n",
       "       [1.9030e+03, 5.0000e+00],\n",
       "       [1.9020e+03, 3.1100e+02],\n",
       "       [1.9010e+03, 7.0000e+00],\n",
       "       [1.9000e+03, 1.6000e+01],\n",
       "       [1.8990e+03, 4.8000e+01],\n",
       "       [1.8980e+03, 2.0000e+00],\n",
       "       [1.8970e+03, 8.0000e+00],\n",
       "       [1.8960e+03, 3.0000e+00],\n",
       "       [1.8950e+03, 2.0000e+00],\n",
       "       [1.8940e+03, 1.0000e+00],\n",
       "       [1.8930e+03, 5.6000e+01],\n",
       "       [1.8910e+03, 1.4100e+02],\n",
       "       [1.8900e+03, 1.3300e+02],\n",
       "       [1.8890e+03, 1.4600e+02],\n",
       "       [1.8880e+03, 1.8200e+02],\n",
       "       [1.8870e+03, 7.3000e+01],\n",
       "       [1.8860e+03, 3.3200e+02],\n",
       "       [1.8850e+03, 7.1500e+02],\n",
       "       [1.8840e+03, 3.4600e+02],\n",
       "       [1.8830e+03, 2.3000e+02],\n",
       "       [1.8820e+03, 3.4000e+01],\n",
       "       [1.8810e+03, 8.0000e+01],\n",
       "       [1.8800e+03, 1.5900e+02],\n",
       "       [1.8790e+03, 8.9300e+02],\n",
       "       [1.8780e+03, 1.0300e+02],\n",
       "       [1.8770e+03, 1.0300e+02],\n",
       "       [1.8760e+03, 1.1000e+01],\n",
       "       [1.8750e+03, 1.6000e+01],\n",
       "       [1.8740e+03, 3.0000e+00],\n",
       "       [1.8730e+03, 2.8000e+01],\n",
       "       [1.8720e+03, 2.5000e+01],\n",
       "       [1.8710e+03, 6.1000e+01],\n",
       "       [1.8690e+03, 6.6000e+01],\n",
       "       [1.8680e+03, 6.3000e+01],\n",
       "       [1.8660e+03, 1.0000e+00],\n",
       "       [1.8610e+03, 2.0000e+00],\n",
       "       [1.8510e+03, 1.0000e+00],\n",
       "       [1.8420e+03, 5.0000e+00]], dtype=float128)"
      ]
     },
     "execution_count": 4,
     "metadata": {},
     "output_type": "execute_result"
    }
   ],
   "source": [
    "#\n",
    "# Read the data in and convert to an array\n",
    "#\n",
    "data = pd.read_csv('./coralsyearcount.csv');\n",
    "arr = data.to_numpy(dtype=np.float128);\n",
    "arr"
   ]
  },
  {
   "cell_type": "code",
   "execution_count": 5,
   "metadata": {},
   "outputs": [],
   "source": [
    "# \n",
    "# extract the X data\n",
    "#\n",
    "X = arr[:, 0]"
   ]
  },
  {
   "cell_type": "code",
   "execution_count": 6,
   "metadata": {},
   "outputs": [
    {
     "name": "stdout",
     "output_type": "stream",
     "text": [
      "1842.0\n",
      "2018.0\n"
     ]
    },
    {
     "data": {
      "text/plain": [
       "array([1.        , 0.99431818, 0.98863636, 0.98295455, 0.97727273,\n",
       "       0.97159091, 0.96590909, 0.96022727, 0.95454545, 0.94886364,\n",
       "       0.94318182, 0.9375    , 0.93181818, 0.92613636, 0.92045455,\n",
       "       0.91477273, 0.90909091, 0.90340909, 0.89772727, 0.89204545,\n",
       "       0.88636364, 0.88068182, 0.875     , 0.86931818, 0.86363636,\n",
       "       0.85795455, 0.85227273, 0.84659091, 0.84090909, 0.83522727,\n",
       "       0.82954545, 0.82386364, 0.81818182, 0.8125    , 0.80681818,\n",
       "       0.80113636, 0.79545455, 0.78977273, 0.78409091, 0.77840909,\n",
       "       0.77272727, 0.76704545, 0.76136364, 0.75568182, 0.75      ,\n",
       "       0.74431818, 0.73863636, 0.73295455, 0.72727273, 0.72159091,\n",
       "       0.71590909, 0.71022727, 0.70454545, 0.69886364, 0.69318182,\n",
       "       0.6875    , 0.68181818, 0.67613636, 0.67045455, 0.66477273,\n",
       "       0.65909091, 0.65340909, 0.64772727, 0.64204545, 0.63636364,\n",
       "       0.63068182, 0.625     , 0.61931818, 0.61363636, 0.60795455,\n",
       "       0.60227273, 0.59659091, 0.59090909, 0.58522727, 0.5625    ,\n",
       "       0.55681818, 0.55113636, 0.54545455, 0.53977273, 0.53409091,\n",
       "       0.52840909, 0.52272727, 0.51704545, 0.51136364, 0.50568182,\n",
       "       0.49431818, 0.48295455, 0.47727273, 0.47159091, 0.46590909,\n",
       "       0.46022727, 0.45454545, 0.44318182, 0.4375    , 0.42613636,\n",
       "       0.41477273, 0.40909091, 0.40340909, 0.39772727, 0.39204545,\n",
       "       0.38068182, 0.375     , 0.36931818, 0.36363636, 0.35795455,\n",
       "       0.35227273, 0.34659091, 0.34090909, 0.33522727, 0.32954545,\n",
       "       0.32386364, 0.31818182, 0.3125    , 0.30681818, 0.30113636,\n",
       "       0.29545455, 0.28977273, 0.27840909, 0.27272727, 0.26704545,\n",
       "       0.26136364, 0.25568182, 0.25      , 0.24431818, 0.23863636,\n",
       "       0.23295455, 0.22727273, 0.22159091, 0.21590909, 0.21022727,\n",
       "       0.20454545, 0.19886364, 0.19318182, 0.1875    , 0.18181818,\n",
       "       0.17613636, 0.17045455, 0.16477273, 0.15340909, 0.14772727,\n",
       "       0.13636364, 0.10795455, 0.05113636, 0.        ], dtype=float128)"
      ]
     },
     "execution_count": 6,
     "metadata": {},
     "output_type": "execute_result"
    }
   ],
   "source": [
    "#\n",
    "# normalize the data\n",
    "# (values between 0.0 and 1.0)\n",
    "#\n",
    "print(X.min())\n",
    "print(X.max())\n",
    "Xnorm = (X-X.min())/(X.max()-X.min())\n",
    "Xnorm"
   ]
  },
  {
   "cell_type": "code",
   "execution_count": 7,
   "metadata": {},
   "outputs": [],
   "source": [
    "# \n",
    "# extract the y data\n",
    "#\n",
    "y = arr[:, 1]"
   ]
  },
  {
   "cell_type": "code",
   "execution_count": 8,
   "metadata": {},
   "outputs": [
    {
     "name": "stdout",
     "output_type": "stream",
     "text": [
      "1.0\n",
      "56232.0\n"
     ]
    },
    {
     "data": {
      "text/plain": [
       "array([3.96098238e-01, 9.43109673e-01, 5.69596842e-01, 6.05644573e-01,\n",
       "       7.34203553e-01, 2.69228717e-01, 3.32005477e-01, 6.97231065e-01,\n",
       "       8.14550693e-01, 3.36664829e-01, 1.00000000e+00, 7.69628852e-01,\n",
       "       7.56397717e-01, 7.92018637e-01, 7.99238854e-01, 5.84962032e-01,\n",
       "       5.56045598e-01, 1.89290605e-01, 5.73153599e-01, 8.34948694e-02,\n",
       "       1.19489250e-01, 1.03270438e-01, 5.90421654e-02, 6.18164358e-02,\n",
       "       1.17141790e-01, 8.43662748e-02, 9.83265459e-02, 1.29857196e-01,\n",
       "       6.42172467e-02, 2.45416229e-02, 1.54007576e-02, 9.95891946e-03,\n",
       "       1.47249738e-02, 2.40436770e-02, 2.29232985e-02, 1.43159467e-02,\n",
       "       2.79916772e-02, 3.67946506e-02, 2.13405417e-02, 6.38437872e-03,\n",
       "       9.03416265e-03, 1.05280006e-02, 9.46097348e-03, 1.15772439e-02,\n",
       "       7.41583824e-03, 7.78929772e-03, 9.88778432e-03, 1.22530277e-02,\n",
       "       7.71816258e-03, 1.00478384e-02, 2.16428660e-02, 1.23597304e-02,\n",
       "       1.31066494e-02, 1.69657306e-02, 2.56086500e-02, 1.48672440e-02,\n",
       "       7.18464904e-03, 5.35291921e-03, 3.21886504e-03, 3.14772990e-03,\n",
       "       2.84540556e-03, 3.09437855e-03, 1.29821629e-03, 9.42540591e-04,\n",
       "       7.46918959e-04, 1.42270278e-04, 3.73459480e-04, 3.37891910e-04,\n",
       "       3.37891910e-04, 2.13405417e-04, 4.62378403e-04, 4.09027049e-04,\n",
       "       1.77837847e-05, 3.55675695e-05, 6.75783820e-04, 4.26810834e-04,\n",
       "       3.75237858e-03, 1.86729740e-03, 8.89189237e-05, 2.31189202e-04,\n",
       "       5.33513542e-05, 1.95621632e-04, 2.95210827e-03, 2.13405417e-04,\n",
       "       7.11351390e-05, 3.55675695e-05, 1.24486493e-04, 7.11351390e-05,\n",
       "       2.48972986e-04, 5.33513542e-05, 1.77837847e-05, 3.55675695e-05,\n",
       "       1.77837847e-05, 0.00000000e+00, 1.77837847e-05, 0.00000000e+00,\n",
       "       8.89189237e-05, 7.11351390e-05, 0.00000000e+00, 3.55675695e-05,\n",
       "       1.04568654e-02, 8.94524373e-03, 0.00000000e+00, 8.12718963e-03,\n",
       "       1.67345414e-02, 1.51162170e-03, 7.11351390e-05, 5.51297327e-03,\n",
       "       1.06702708e-04, 2.66756771e-04, 8.35837883e-04, 1.77837847e-05,\n",
       "       1.24486493e-04, 3.55675695e-05, 1.77837847e-05, 0.00000000e+00,\n",
       "       9.78108161e-04, 2.48972986e-03, 2.34745959e-03, 2.57864879e-03,\n",
       "       3.21886504e-03, 1.28043250e-03, 5.88643275e-03, 1.26976223e-02,\n",
       "       6.13540574e-03, 4.07248671e-03, 5.86864897e-04, 1.40491899e-03,\n",
       "       2.80983799e-03, 1.58631360e-02, 1.81394604e-03, 1.81394604e-03,\n",
       "       1.77837847e-04, 2.66756771e-04, 3.55675695e-05, 4.80162188e-04,\n",
       "       4.26810834e-04, 1.06702708e-03, 1.15594601e-03, 1.10259465e-03,\n",
       "       0.00000000e+00, 1.77837847e-05, 0.00000000e+00, 7.11351390e-05],\n",
       "      dtype=float128)"
      ]
     },
     "execution_count": 8,
     "metadata": {},
     "output_type": "execute_result"
    }
   ],
   "source": [
    "#\n",
    "# normalize the data\n",
    "# (values between 0.0 and 1.0)\n",
    "#\n",
    "print(y.min())\n",
    "print(y.max())\n",
    "ynorm = (y-y.min())/(y.max()-y.min())\n",
    "ynorm"
   ]
  },
  {
   "cell_type": "code",
   "execution_count": 9,
   "metadata": {},
   "outputs": [
    {
     "data": {
      "text/plain": [
       "array([2.5973097e-05, 1.0381417e+01, 0.0000000e+00])"
      ]
     },
     "execution_count": 9,
     "metadata": {},
     "output_type": "execute_result"
    }
   ],
   "source": [
    "#\n",
    "# by default, differential_evolution completes by calling curve_fit() using parameter bounds\n",
    "#\n",
    "geneticParameters = generate_Initial_Parameters()\n",
    "geneticParameters"
   ]
  },
  {
   "cell_type": "code",
   "execution_count": 10,
   "metadata": {},
   "outputs": [
    {
     "name": "stdout",
     "output_type": "stream",
     "text": [
      "without parameters: [-2.31856251e+03 -2.07383400e-04  2.31838018e+03]\n",
      "GeneticBounds parameters: [ 4.47932077e-05  9.84814041e+00 -1.58798676e-02]\n",
      "\n"
     ]
    }
   ],
   "source": [
    "#\n",
    "# now call curve_fit with/witout geneticParameters,\n",
    "# popt - without geneticParameters\n",
    "# POPT - with geneticParameters\n",
    "#\n",
    "popt, pcov = curve_fit(func, Xnorm, ynorm, maxfev=1000)\n",
    "POPT, PCOV = curve_fit(func, Xnorm, ynorm, geneticParameters)\n",
    "print('without parameters:', popt)\n",
    "print('GeneticBounds parameters:', POPT)\n",
    "print()\n"
   ]
  },
  {
   "cell_type": "code",
   "execution_count": 11,
   "metadata": {},
   "outputs": [
    {
     "name": "stdout",
     "output_type": "stream",
     "text": [
      "\n",
      "RMSE: 13191.383823949090231\n",
      "R-squared: 0.0013526805587092325094\n",
      "\n",
      "\n",
      "RMSE: 0.116053596776462304536\n",
      "R-squared: 0.725063260723837126\n",
      "\n"
     ]
    }
   ],
   "source": [
    "    #\n",
    "    # Note: Higher R-squared values are good. Mostly we want 90%\n",
    "    # Our 73% below is not bad\n",
    "    # https://blog.minitab.com/blog/adventures-in-statistics-2/regression-analysis-how-do-i-interpret-r-squared-and-assess-the-goodness-of-fit\n",
    "    #\n",
    "printModelPredictions(X, y, popt)\n",
    "printModelPredictions(Xnorm, ynorm, POPT)"
   ]
  },
  {
   "cell_type": "code",
   "execution_count": 12,
   "metadata": {},
   "outputs": [
    {
     "data": {
      "image/png": "[encoded data removed]",
      "text/plain": [
       "<Figure size 432x288 with 1 Axes>"
      ]
     },
     "metadata": {
      "needs_background": "light"
     },
     "output_type": "display_data"
    }
   ],
   "source": [
    "#\n",
    "# Plot the initial values in plt.scatter=blue\n",
    "# Plot the 'bad' estimate with (popt)=red\n",
    "# Plot the 'good' estimate with (POPT)=green\n",
    "#\n",
    "plt.scatter(X, y);\n",
    "plt.plot(X, func(Xnorm, *POPT)*y.max(), 'g--',\n",
    "         label='fit: a=%5.3f, b=%5.3f, c=%5.3f' % tuple(POPT))\n",
    "plt.plot(X, func(X, *popt), 'r--',\n",
    "         label='fit: a=%5.3f, b=%5.3f, c=%5.3f' % tuple(POPT))\n",
    "plt.show()"
   ]
  },
  {
   "cell_type": "code",
   "execution_count": null,
   "metadata": {},
   "outputs": [],
   "source": []
  }
 ],
 "metadata": {
  "kernelspec": {
   "display_name": "Python 3",
   "language": "python",
   "name": "python3"
  },
  "language_info": {
   "codemirror_mode": {
    "name": "ipython",
    "version": 3
   },
   "file_extension": ".py",
   "mimetype": "text/x-python",
   "name": "python",
   "nbconvert_exporter": "python",
   "pygments_lexer": "ipython3",
   "version": "3.7.4"
  }
 },
 "nbformat": 4,
 "nbformat_minor": 2
}
